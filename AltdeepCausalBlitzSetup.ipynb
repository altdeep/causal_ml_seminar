{
  "nbformat": 4,
  "nbformat_minor": 0,
  "metadata": {
    "colab": {
      "name": "AltdeepCausalBlitzSetup.ipynb",
      "provenance": [],
      "collapsed_sections": [],
      "authorship_tag": "ABX9TyP4/TqKhTNlgTnw0iSTd4K3",
      "include_colab_link": true
    },
    "kernelspec": {
      "name": "python3",
      "display_name": "Python 3"
    }
  },
  "cells": [
    {
      "cell_type": "markdown",
      "metadata": {
        "id": "view-in-github",
        "colab_type": "text"
      },
      "source": [
        "<a href=\"https://colab.research.google.com/github/robertness/causal_ml_webinar/blob/master/AltdeepCausalBlitzSetup.ipynb\" target=\"_parent\"><img src=\"https://colab.research.google.com/assets/colab-badge.svg\" alt=\"Open In Colab\"/></a>"
      ]
    },
    {
      "cell_type": "markdown",
      "metadata": {
        "id": "cwHD8Rc82mx3"
      },
      "source": [
        "## Environmental preparation for the Altdeep Causal Machine Learning Blitz Webinar \n",
        "\n",
        "![altdeep_logo_alpha_whie.png](data:image/png;base64,iVBORw0KGgoAAAANSUhEUgAAANAAAABACAYAAABrwvk3AAABYWlDQ1BrQ0dDb2xvclNwYWNlRGlzcGxheVAzAAAokWNgYFJJLCjIYWFgYMjNKykKcndSiIiMUmB/yMAOhLwMYgwKicnFBY4BAT5AJQwwGhV8u8bACKIv64LMOiU1tUm1XsDXYqbw1YuvRJsw1aMArpTU4mQg/QeIU5MLikoYGBhTgGzl8pICELsDyBYpAjoKyJ4DYqdD2BtA7CQI+whYTUiQM5B9A8hWSM5IBJrB+API1klCEk9HYkPtBQFul8zigpzESoUAYwKuJQOUpFaUgGjn/ILKosz0jBIFR2AopSp45iXr6SgYGRiaMzCAwhyi+nMgOCwZxc4gxJrvMzDY7v////9uhJjXfgaGjUCdXDsRYhoWDAyC3AwMJ3YWJBYlgoWYgZgpLY2B4dNyBgbeSAYG4QtAPdHFacZGYHlGHicGBtZ7//9/VmNgYJ/MwPB3wv//vxf9//93MVDzHQaGA3kAFSFl7jXH0fsAAABEZVhJZk1NACoAAAAIAAIBEgADAAAAAQABAACHaQAEAAAAAQAAACYAAAAAAAKgAgAEAAAAAQAAANCgAwAEAAAAAQAAAEAAAAAAIfyFiwAAAgNpVFh0WE1MOmNvbS5hZG9iZS54bXAAAAAAADx4OnhtcG1ldGEgeG1sbnM6eD0iYWRvYmU6bnM6bWV0YS8iIHg6eG1wdGs9IlhNUCBDb3JlIDUuNC4wIj4KICAgPHJkZjpSREYgeG1sbnM6cmRmPSJodHRwOi8vd3d3LnczLm9yZy8xOTk5LzAyLzIyLXJkZi1zeW50YXgtbnMjIj4KICAgICAgPHJkZjpEZXNjcmlwdGlvbiByZGY6YWJvdXQ9IiIKICAgICAgICAgICAgeG1sbnM6ZXhpZj0iaHR0cDovL25zLmFkb2JlLmNvbS9leGlmLzEuMC8iCiAgICAgICAgICAgIHhtbG5zOnRpZmY9Imh0dHA6Ly9ucy5hZG9iZS5jb20vdGlmZi8xLjAvIj4KICAgICAgICAgPGV4aWY6UGl4ZWxYRGltZW5zaW9uPjIwODwvZXhpZjpQaXhlbFhEaW1lbnNpb24+CiAgICAgICAgIDxleGlmOlBpeGVsWURpbWVuc2lvbj42NDwvZXhpZjpQaXhlbFlEaW1lbnNpb24+CiAgICAgICAgIDx0aWZmOk9yaWVudGF0aW9uPjE8L3RpZmY6T3JpZW50YXRpb24+CiAgICAgIDwvcmRmOkRlc2NyaXB0aW9uPgogICA8L3JkZjpSREY+CjwveDp4bXBtZXRhPgpVWaaRAAAO1klEQVR4Ae2dCZCUxRXHe5ZluZf7lMsDRFDwQoPECxUTowYPtFBQ0HiVKWNFUxg1VRqjMaYSjUkFTCqKRrSSiElE8YhRpEgMaIgciimM3HKzCsixMLv5/We/Xnpmvzl25ttlYPtV/be7X7/v9ev39fv6+GZmjfHkPeA94D3gPeA94D3gPeA94D3gPeA94D3gPeA94D3gPeA94D3gPeA94D3gPeA94D3gPeA94D3gPeA94D3gPRCVB2JRKfJ6vAdy9EB1jnLFJhYaKyXFZqW3x3vgYPKAD6CD6W55W4vOA6VFZ5E3qEl5oGWb1qaktDl9LpaVXcxU7dtrdn+5M6f74AMoJzd5oag9ECspMT2PG2wGnDHCtGzX1lRXVUXdRF76ZNfu7TvMsjnvmnWLP8pqlw+gvNzsLyrEAyXNmplOXbqYoReONt2GHG2qq5l9imUCCjrWqrzc7Fm/0WzZsDFjV/0eKKN7fGVDeKCK2aZN396mXa8eRsFUbFRSWopt3U1bbMxGPoCyecjXR+8BZpxYGfseDoarq4pv9mFKTNgWKyvL2ne/hMvqIi/QIB7QICWCYqUlpiT0DUuDtJqT0lgzzSuK7uzrSh9AObnUC0XtgZKKbWbr0mVm+7ryrBv1qNvOpi/GsrLyi+3sgTZkE1WYefIeaFQPJB7rZSyPyjh902AtOlJUsLTcw2lc5e7d1rzQWPEzkHWPTxvNAzo46NCls+l+0rBEEBXLEbZ1gI6yKwme9e9/YDatW2/ZoWnRBxBHnO3CLI/FYtvD+MXAw2Y9Vls7tlRj7w6n3KSzOoVr3ecwM2DU6aZ1106mOl4c74DsTdEeaOemrWbbhs3GHKwBxCBsS4cWgiNsx9yU+t8wKG9yecWQx67jseMt0NG1B/5k7H3E5TXZvDbnzEKlLctMafPmpqokXlSu0AxZ2rKFiTXPvryMdAZikOgzGV1BixCP7GQAZd+V7b+wL9nQ4AlEDtsvmlsO+8qRvBbojj2FPbtyu7JeUkORTgqe4Opu9dLSBIS5H4lj7MRRdhH1tzqGXdXMitkP4UxkAYQzNGN8ChRAoYTMQwzae0IrU5jIfYT8VNhHAy3jtInrAeodOFxj6RoyjwcF7Q6ftBURpjPR9QLoBWR7Z+DpEPVAlC9SFUBpgyfw3x0ERadcfUkQ3QJGgeHgZK4bn+u1aeQUgJa620yUKXZWgLFgJHrvjVK311V8HogsgBgwOq74AXgFvA7Clkda2mkJVQyUfYFbDFZ6G0wJb1p3ba0wOzdvKbp3RpEt4XSfCaIf2fvNTPMc+XG27KQ3kn/UKR8SWfqrGXg3PtiXb4fQoWVqXzAYHAW2gQ/BUvR+SZozFaKLa7WXtWMjTtuVbsNBfVl9bXJ11Ccf3xc3H784y+z+fJsZPPZC06F/n5rtSQ57lPq0k4+sdVI+16a9Bgd3oPKSQGAv6XlgdlAeRP0ZOH9OUG7QJLBFG3jNOBqclvpRd4wtOKluy+psg4Nrpe9WoL4NA33AHviLSBeAx0BOxDWame8CdwIFYiohUv1XmN/BrlWplW65UF1cfz/67gZ2bKjt8ykvB7LvJHAcaAFftiwEr4Gp2FZFGj3FYqZFj65m+aIlJv78n83Qqy417fv1NonHzQEOIuukqDt9JQpbBkpn4dh3cPZcyl8NeJqFGjyAghs/i7ZKgnbd5FsUhDBaz7X9sDvpyWsFqRtEfho41fKCVIEwPMDVpAqkjISuEQg8DQZkENTMNAaMRv527PptmGxEuk5Htzsu1LaW5ieCNsAlPZCEi8BVtD8R2z5xBaLIo9MMPO8sE4/HzbI355hFz724P4iiaKAAHWEDqwB1tZdOqs0Z80yQf8LhXY6zG+N0qjdt5tNHHTZ0deytzWJ3fwrzQWrwaKYVLGkmOcMWwlJ0dYevmcUNnlWUfwxuApPB28CSXs5O4bo6eiPU9VPaeAO4S0YFVWrwwEqikZTmY0fPJG5EBb2XGfz1c8yAc88061euMgunv2i2rVrLtiGiBvJUk8/gytgUDtSyyA6uCvIvBxf8iXRLkNeT+pog35CJBuevwfQAK0gt/Y+M5bvp7+HfylNvrRVMSfX017G6pTfJ6OVpK6ABriXOOyAXehIhN1AfpDyAtu8GelH8CBgF70qwD4i0dJyOn9snSvv/RKKL9l4F56P22f2qa3NzyZ0NOgIFyiVgGbAk/hRbiDTlnVGzFgqiUWYggbSBIFo2Y5bZtmZdpM3UV1nkAYQBEx0j/sDNSCyDSPfAn+bUaRnXoESbm4GCYbxAYwoUS9MsPyW9hrKCrg4xaMfCPNepUDCNRn4h0GZ7H9CyTYPsKUeuThZdeuF6gVMxhWvvBXWWjfD+iNz3HVnNrGojQVHqsjpDUgWG9q6zwedgPfgLPO3//ubIfxN7FIDRE0FU2rKlGXTOmabH4f3MssVLzKfzFpj43r06wYq+vRw0umvdHMQzi+A4PR0nOFLPOHllnwDfBeptox4m0F4UpKWMJT367mQQ1dnGigfdTr0GUi97QUpqZ2nLnsE12pyno3+kVAynrAEsilJXjcbkv59QvCNNX3dh93XUfwjKg8tGkr4e5KNLCJJ9lZVm9YKFZuOataZd9y6m65H9ar7Vqo8HHQCKNICwXwOmp9OPSTh3olNW1n1U3ER5Tkp9MRc1a1h6mQGlY+ZQUh19f5XK60MF6g76N9PIpWMPcSpSA6gQXY7a2uwM+rOrtpSSoW4Nff07bC3pRK6fajiF/iV44pV7zYp33zMLX5iZ+CGSYWMv5odJhvClvGaGR1ZOLfAhnZw+opOTMoSiDqBJKQ3fkFJOLV6G42/jBti9UWp9sZWPdgza6eTTZVemq4Dvfioig1jaKvdzhVHqCmswUz+s/AqbIR3g5CPJxpl5VvzzfbNwxkumVXk7M/Tyi0yvYUP4Nmss8bm13MIn8a4S+Vyls5seWQBhVCeauzh7k0kSLShdC36exG2cQlkezWjGsYM1l7vQO0Mba1Pq3D1OSlVSMU5pK3jJ4Uapy1Fbm83UDyvkykT6QKzm+HrFuwqemaY1v5Yz4sYJpkM/XqYSCNs3bjIVq9aYqixfiZBsjK9RdGHv1KZnd2tzwWlkAYQlVwE7KGeT14Y7Hf2ECq2bRZqlGiuA3EGfzzH6EmwdKKOhc7kppcye+2qKyX+p06nc6GRuUmmxU9Js9jN0sRvOi6LUFWaADgbuS2cfdfLl2c6Fi5x8wVl9M3T1/AWmbacO5pRJ40xHfRKBO4k9Zsvy1YlZae/uPYlyusawMfE+Y8hXTjEDx43RxelE68WPMoAmOi0/Q+c2O+WkLJ35JQwbQI15mLDHMeQoJ5+UxT55V8sQfQVjjVOpgXppUD6WdDJ4MCinJj+E0T+V6ZTdQa/j7/vAPU59nSx26ZBG74C6gVewbUcgFKWuQGVSov3WfaCOfYFNU6jrAiz9x2aiSFu2LzfHXnJBYunWtlsXvm1N9OhRSNptwOHmhCvGMANpYhYP2Nhw82ITNG06d4oseNRcqf4USjhRp0cnBXq02ZyRSScd+YBr5iFzaiDXWIcJ6xy7zsGGodhS+7SkfCT148AkcATgXlWf4Mj8Dt4dwH7c5gHq+1DWl+W+INWyojPJL8DVKmegudTNB6cEMndx7efkH0eXG+jSqTbGg5tBXyDSrC1bRFHqqtFY9+/d2KGHxr1gKdDY0T2XHbYPZM1/wXRlIiMGftcBR9R8d0hBYQl+q04dTd+uuFxBBenbrTW/qpOcT1Rq1kEsyq+QFxRAOFT7AQ0WGwiyU0uXt6nTOngag+E5MUXw9BEYPZkPBycDS2Op60/hAeRfE5Pyt0k0CO2yUGy7/1D+a8j8WxmHqsg/6rbp1Cn7KpBMCdDTfB463iDVEuoYoHcaLkmuu2WgdzXyegqrzyI96xT8N8D/lFTy6pv4qXQzMqfBVB/1sjJOeSLlBUAfe9K1j4Bb4c8hXQ3KwfFgJEjVuRdegqLUZXWmSS+GL6Qj+XYi9uxOJ5AvP9OX7pK+Ek6Q1Mq6+UTDbvTla0nydQUFEKp0Y69IVpkonRjw9A6kNoDIfwOE7Y2aw9fgmgASAUQ6GfQG6UgBYNtxZa6n4LZZW8eN/YzBeR0MzSS6XgM33YCQt/XpibeAS7+ioGDTbGBJg/8oWwjSbaQaSN2CchvSEUABp0A22LMUezSzTAV2CdSPvPyQjjRInwcPuwJR6nL1Bnm9yB0FrI0hImYlzBux419hlYcqTze+ENIyTMuisNDWMmQ2cOkdChuABkEqaQk012G+QH6fU84lqwGrNtISN/hpKhXEWqdXhggugKdZZhCyV4K4K0O5CtwCT4G3yq0L8rLhbaAZdkrAs4l88potKEWXlruDgIJaM2E60lLze6AP1+iTFVruJVGUupIUGzOT8lDwEJD9uodbwWfgDXA/OJb2lW9SFGtSvU3pLE9/zXzaILcCmjFWMgh2kOZM6OiJ8AmgK1gCFqGjdnlFOWdCl+6HZqBjgPRuBCuA7NpOmjMVqovrp9KYZkvRBNp/tiZb81f6obAHpysWlk9c0/+0U83w8ZeZ1h077j8ACJM+ADz9qMjOigrz3rMzePc0z1oQGiuFLuGs8oMyZQBooH9QiPHo0AwsFEzBgFyBIqEgilJXmCGB/rCqJsUrdAnXpJzlO+s9kOqBJj0DpTrDlxOnnzqJHAMucPxxG0u2052yTggfZhaq7x51vwotiDglK1qSbTmY5wOoaO/gATPsMVo+K6X14ZQFl+ZSmO0y6pOP8TsHJvHxm3y2UfVpKR9ZbIrzyQXZmIV8AGVxUBOsXk6fz8qh3zo1zZv2rttoNi3+2JR1bp/4Ife8FTXEhfpt7C0VpvIzHTZmphwmqcwKfO2h5QGWano/plPFFhl6toLl29oM9ZmqElNOCYO0Bf9gOBZjG150ozD0Hw2HWhnKzNR7X+c9UKAHinHNlkuXQmPFn8Ll4jov4z2QxgM+gNI4xrO9B7wHvAe8B7wHvAe8B7wHvAe8B7wHvAe8B7wHvAe8B7wHvAe8B7wHvAe8B7wHvAe8B7wHvAe8B7wHvAe8B7wHvAca1wP/B/rbczLDQDCpAAAAAElFTkSuQmCC)\n",
        "\n",
        "Follow the instructions below to setup the environment we'll use in the workshop.  If you are reading the pdf version of this document, the original Google Colab doc is [here](https://colab.research.google.com/drive/1SBZ2E8FzrObSNVuXngcUheCYyUjSEtQl?usp=sharing).\n",
        "\n",
        "An other good way to prepare for the workshop is to go through our minicourse on [Causal Generative Machine Learning](https://altdeep.ai/p/causal-ml-minicourse).\n",
        "\n",
        "\n",
        "## Setting up Pyro.\n",
        "\n",
        "Pyro is the PyTorch-based probabilistic programming language we'll use for parameteric modeling.\n",
        "\n",
        "First install [Pyro](https://pyro.ai/)."
      ]
    },
    {
      "cell_type": "code",
      "metadata": {
        "id": "RRBpVj8p0gMf"
      },
      "source": [
        "!pip install torch torchvision torchaudio\n",
        "!pip3 install pyro-ppl"
      ],
      "execution_count": null,
      "outputs": []
    },
    {
      "cell_type": "markdown",
      "metadata": {
        "id": "zZKnJRPM5rNs"
      },
      "source": [
        "Now we'll test Pyro with an example model from the docs."
      ]
    },
    {
      "cell_type": "code",
      "metadata": {
        "colab": {
          "base_uri": "https://localhost:8080/"
        },
        "id": "H5s5OTTu5DkD",
        "outputId": "ae5aa2cf-010e-4b1b-a805-d6a207865a85"
      },
      "source": [
        "import pyro\n",
        "\n",
        "def weather():\n",
        "    cloudy = pyro.sample('cloudy', pyro.distributions.Bernoulli(0.3))\n",
        "    cloudy = 'cloudy' if cloudy.item() == 1.0 else 'sunny'\n",
        "    mean_temp = {'cloudy': 55.0, 'sunny': 75.0}[cloudy]\n",
        "    scale_temp = {'cloudy': 10.0, 'sunny': 15.0}[cloudy]\n",
        "    temp = pyro.sample('temp', pyro.distributions.Normal(mean_temp, scale_temp))\n",
        "    return cloudy, temp.item()\n",
        "\n",
        "for _ in range(3):\n",
        "    print(weather())"
      ],
      "execution_count": 2,
      "outputs": [
        {
          "output_type": "stream",
          "text": [
            "('sunny', 88.29259490966797)\n",
            "('sunny', 71.17451477050781)\n",
            "('cloudy', 50.392398834228516)\n"
          ],
          "name": "stdout"
        }
      ]
    },
    {
      "cell_type": "markdown",
      "metadata": {
        "id": "BCDtFTFG3iHi"
      },
      "source": [
        "## Installing bnlearn\n",
        "\n",
        "We'll also use the R package [bnlearn](https://www.bnlearn.com/).\n",
        "\n",
        "You can [download R from the R website](https://www.r-project.org/).  [RStudio](https://rstudio.com/) is the preferred IDE.\n",
        "\n",
        " But you can also run R from within a Jupyter notebook using rpy2.  Follow the instructions below to install rpy2 and the requisite R packages."
      ]
    },
    {
      "cell_type": "code",
      "metadata": {
        "id": "7ILefXzr0lLZ"
      },
      "source": [
        "!pip install rpy2\n",
        "import rpy2\n",
        "%load_ext rpy2.ipython"
      ],
      "execution_count": 3,
      "outputs": []
    },
    {
      "cell_type": "code",
      "metadata": {
        "id": "mS7eugR20hsc"
      },
      "source": [
        "%%R\n",
        "install.packages(c(\"bnlearn\", \"BiocManager\"),  quiet=TRUE)\n",
        "BiocManager::install('Rgraphviz', update=FALSE, ask=FALSE, quiet=TRUE)\n"
      ],
      "execution_count": 4,
      "outputs": []
    },
    {
      "cell_type": "markdown",
      "metadata": {
        "id": "_eqxSd1R40cL"
      },
      "source": [
        "We'll test out our R install by loading `bnlearn` and visualizing a simple directed graph."
      ]
    },
    {
      "cell_type": "code",
      "metadata": {
        "colab": {
          "base_uri": "https://localhost:8080/",
          "height": 532
        },
        "id": "WwNMhK3L2L8_",
        "outputId": "b8f8a838-1629-4ca5-a877-8bc771921e4c"
      },
      "source": [
        "%%R\n",
        "library(bnlearn)\n",
        "net <- model2network(\"[cloudy][temp|cloudy]\")\n",
        "graphviz.plot(net)"
      ],
      "execution_count": 5,
      "outputs": [
        {
          "output_type": "stream",
          "text": [
            "R[write to console]: Loading required namespace: Rgraphviz\n",
            "\n"
          ],
          "name": "stderr"
        },
        {
          "output_type": "display_data",
          "data": {
            "image/png": "[encoded data removed]"
          },
          "metadata": {
            "tags": []
          }
        }
      ]
    }
  ]
}