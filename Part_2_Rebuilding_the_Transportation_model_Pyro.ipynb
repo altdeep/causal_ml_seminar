{
  "nbformat": 4,
  "nbformat_minor": 0,
  "metadata": {
    "kernelspec": {
      "display_name": "Python 3",
      "language": "python",
      "name": "python3"
    },
    "language_info": {
      "codemirror_mode": {
        "name": "ipython",
        "version": 3
      },
      "file_extension": ".py",
      "mimetype": "text/x-python",
      "name": "python",
      "nbconvert_exporter": "python",
      "pygments_lexer": "ipython3",
      "version": "3.8.5+"
    },
    "colab": {
      "name": "Part 2: Rebuilding the Transportation model Pyro.ipynb",
      "provenance": [],
      "collapsed_sections": []
    }
  },
  "cells": [
    {
      "cell_type": "markdown",
      "metadata": {
        "id": "CgpdSs0fu5bx"
      },
      "source": [
        "# Rebuilding the Transporation Model in Pyro\n"
      ]
    },
    {
      "cell_type": "code",
      "metadata": {
        "colab": {
          "base_uri": "https://localhost:8080/"
        },
        "id": "zXkGLCrnw8og",
        "outputId": "8e990a06-81bf-482e-e36b-424c5523df27"
      },
      "source": [
        "!pip install torch torchvision torchaudio\n",
        "!pip3 install pyro-ppl"
      ],
      "execution_count": 3,
      "outputs": [
        {
          "output_type": "stream",
          "text": [
            "Requirement already satisfied: torch in /usr/local/lib/python3.7/dist-packages (1.8.1+cu101)\n",
            "Requirement already satisfied: torchvision in /usr/local/lib/python3.7/dist-packages (0.9.1+cu101)\n",
            "Collecting torchaudio\n",
            "\u001b[?25l  Downloading https://files.pythonhosted.org/packages/aa/55/01ad9244bcd595e39cea5ce30726a7fe02fd963d07daeb136bfe7e23f0a5/torchaudio-0.8.1-cp37-cp37m-manylinux1_x86_64.whl (1.9MB)\n",
            "\u001b[K     |████████████████████████████████| 1.9MB 4.8MB/s \n",
            "\u001b[?25hRequirement already satisfied: numpy in /usr/local/lib/python3.7/dist-packages (from torch) (1.19.5)\n",
            "Requirement already satisfied: typing-extensions in /usr/local/lib/python3.7/dist-packages (from torch) (3.7.4.3)\n",
            "Requirement already satisfied: pillow>=4.1.1 in /usr/local/lib/python3.7/dist-packages (from torchvision) (7.1.2)\n",
            "Installing collected packages: torchaudio\n",
            "Successfully installed torchaudio-0.8.1\n",
            "Collecting pyro-ppl\n",
            "\u001b[?25l  Downloading https://files.pythonhosted.org/packages/aa/7a/fbab572fd385154a0c07b0fa138683aa52e14603bb83d37b198e5f9269b1/pyro_ppl-1.6.0-py3-none-any.whl (634kB)\n",
            "\u001b[K     |████████████████████████████████| 634kB 7.0MB/s \n",
            "\u001b[?25hRequirement already satisfied: torch>=1.8.0 in /usr/local/lib/python3.7/dist-packages (from pyro-ppl) (1.8.1+cu101)\n",
            "Collecting pyro-api>=0.1.1\n",
            "  Downloading https://files.pythonhosted.org/packages/fc/81/957ae78e6398460a7230b0eb9b8f1cb954c5e913e868e48d89324c68cec7/pyro_api-0.1.2-py3-none-any.whl\n",
            "Requirement already satisfied: tqdm>=4.36 in /usr/local/lib/python3.7/dist-packages (from pyro-ppl) (4.41.1)\n",
            "Requirement already satisfied: numpy>=1.7 in /usr/local/lib/python3.7/dist-packages (from pyro-ppl) (1.19.5)\n",
            "Requirement already satisfied: opt-einsum>=2.3.2 in /usr/local/lib/python3.7/dist-packages (from pyro-ppl) (3.3.0)\n",
            "Requirement already satisfied: typing-extensions in /usr/local/lib/python3.7/dist-packages (from torch>=1.8.0->pyro-ppl) (3.7.4.3)\n",
            "Installing collected packages: pyro-api, pyro-ppl\n",
            "Successfully installed pyro-api-0.1.2 pyro-ppl-1.6.0\n"
          ],
          "name": "stdout"
        }
      ]
    },
    {
      "cell_type": "code",
      "metadata": {
        "id": "sTDSnDGUu5b3"
      },
      "source": [
        "\n",
        "\n",
        "from statistics import mean\n",
        "import torch\n",
        "import numpy as np\n",
        "import pyro\n",
        "import pyro.distributions as dist\n",
        "from pyro.infer import Importance, EmpiricalMarginal\n",
        "import matplotlib.pyplot as plt\n",
        "%matplotlib inline\n",
        "\n",
        "pyro.set_rng_seed(101)"
      ],
      "execution_count": 4,
      "outputs": []
    },
    {
      "cell_type": "markdown",
      "metadata": {
        "id": "1BIiYV7vu5b4"
      },
      "source": [
        "Now that we have validated our model, let's rebuild the model with Pyro.\n",
        "\n",
        "Usually we would take advantage of Pyro's ability to employ arbitrarily complicated parametric assumptions.  But here, we're going to simply replicate the original model to establish proof of concept."
      ]
    },
    {
      "cell_type": "markdown",
      "metadata": {
        "id": "YNiQg0aNu5b6"
      },
      "source": [
        "- Age (A): Recorded as young (young) for individuals below 30 years, adult (adult) for individuals between 30 and 60 years old, and old (old) for people older than 60.\n",
        "- Sex (S): The biological sex of an individual, recorded as male (M) or female (F).\n",
        "- Education (E): The highest level of education or training completed by the individual, recorded either high school (high) or university degree (uni).\n",
        "- Occupation (O): Employee (emp) or a self employed (self) worker.\n",
        "- Residence (R): The size of the city the individual lives in, recorded as small (small) or big (big).\n",
        "- Travel (T): The means of transport favored by the individual, recorded as car (car), train (train) or other (other)\n"
      ]
    },
    {
      "cell_type": "markdown",
      "metadata": {
        "id": "YBPO4mC3u5b7"
      },
      "source": [
        "![dag.png](attachment:dag.png)"
      ]
    },
    {
      "cell_type": "code",
      "metadata": {
        "colab": {
          "base_uri": "https://localhost:8080/"
        },
        "id": "tbecTBMBu5b_",
        "outputId": "c18d1de6-2002-47a2-be53-a9a85acaae69"
      },
      "source": [
        "A_alias = ['young','adult','old']\n",
        "S_alias = ['M','F']\n",
        "E_alias = ['high','uni']\n",
        "O_alias = ['emp','self']\n",
        "R_alias = ['small','big']\n",
        "T_alias = ['car','train','other']\n",
        "\n",
        "A_prob = torch.tensor([0.3,0.5,0.2])\n",
        "S_prob = torch.tensor([0.6,0.4])\n",
        "E_prob = torch.tensor([[[0.75,0.25], [0.72,0.28], [0.88,0.12]],\n",
        "                     [[0.64,0.36], [0.7,0.3], [0.9,0.1]]])\n",
        "O_prob = torch.tensor([[0.96,0.04], [0.92,0.08]])\n",
        "R_prob = torch.tensor([[0.25,0.75], [0.2,0.8]])\n",
        "T_prob = torch.tensor([[[0.48,0.42,0.1], [0.56,0.36,0.08]],\n",
        "                     [[0.58,0.24,0.18], [0.7,0.21,0.09]]])\n",
        "\n",
        "def model():\n",
        "    A = pyro.sample(\"A\", dist.Categorical(probs=A_prob))\n",
        "    S = pyro.sample(\"S\", dist.Categorical(probs=S_prob))\n",
        "    E = pyro.sample(\"E\", dist.Categorical(probs=E_prob[S][A]))\n",
        "    O = pyro.sample(\"O\", dist.Categorical(probs=O_prob[E]))\n",
        "    R = pyro.sample(\"R\", dist.Categorical(probs=R_prob[E]))\n",
        "    T = pyro.sample(\"T\", dist.Categorical(probs=T_prob[R][O]))\n",
        "    return{'A': A,'S': S,'E': E,'O': O,'R': R,'T': T}\n",
        "\n",
        "print(model())"
      ],
      "execution_count": 5,
      "outputs": [
        {
          "output_type": "stream",
          "text": [
            "{'A': tensor(1), 'S': tensor(1), 'E': tensor(0), 'O': tensor(0), 'R': tensor(1), 'T': tensor(2)}\n"
          ],
          "name": "stdout"
        }
      ]
    },
    {
      "cell_type": "code",
      "metadata": {
        "id": "hLI04CTpu5cA"
      },
      "source": [
        "def prob_dict(alias, prob):\n",
        "    dict = {}\n",
        "    for i, _ in enumerate(alias):\n",
        "        dict[alias[i]] = prob[i]\n",
        "    return dict"
      ],
      "execution_count": 6,
      "outputs": []
    },
    {
      "cell_type": "code",
      "metadata": {
        "id": "UKuYB1C9u5cC"
      },
      "source": [
        "A_dict = prob_dict(A_alias, A_prob)\n",
        "S_dict = prob_dict(S_alias, S_prob)\n",
        "E_dict = prob_dict(E_alias, E_prob)\n",
        "O_dict = prob_dict(O_alias, O_prob)\n",
        "R_dict = prob_dict(R_alias, R_prob)\n",
        "T_dict = prob_dict(T_alias, T_prob.T)"
      ],
      "execution_count": null,
      "outputs": []
    },
    {
      "cell_type": "markdown",
      "metadata": {
        "id": "EezE_q06u5cC"
      },
      "source": [
        "### Inference\n",
        "\n",
        "There are two broad categories of causal inference questions, one is to predict effects from causes, referred to as forward causal inference, and the other is to predict causes from effects, referred to as reverse causal inference. Forward causal inference is straightforward to do through forward sampling, without the need of any inference algorithm. Forward sampling doesn't work for reverse causal inference, since there is no guarantee the sample generated matches the evidence we observed. An easy solution is rejection sampling, which rejects all the samples that do not match the evidence. But it can be very inefficient when the probability of the observed evidence is very small. An improvement is likelihood weighting, a special case of importance sampling, which samples unobserved variables like in forward sampling, but sets the observed variables to the same value as evidence, and weights each sample by its likelihood. An caveat of importance sampling is its accuracy depends on how close the proposal distribution is to the target distribution. In the case of Bayesian network, the proposal distribution is often the CPTs, and the target distribution is the posterior distribution we want to estimate. (For details of the theory of different sampling methods, see \"Probabilistic Graphical Models\" Chapter 12)\n",
        "\n",
        "Pyro has implemented many inference algorithms including importance sampling, and we encourage you to experiment with them. Detailed understanding about how these methods work in Pyro is not a requirement. For the purpose of the homework, it's sufficient to have a high level understanding of the general idea and be able to use at least one of the inference algorithms in Pyro in your model. \n",
        "\n",
        "Most of the inference algorithms implemented in Pyro are approximate inference algorithms either through sampling or variational inference. Exact inference using variable elimination is NP hard. It becomes intractable when the model is large. However, most models in homeworks are fairly small. Although inference can be done manually without much efforts in small networks, inference using Pyro is required in this question."
      ]
    },
    {
      "cell_type": "markdown",
      "metadata": {
        "id": "6FoXl0_cu5cC"
      },
      "source": [
        "### Forward inference\n",
        "\n",
        "Implement forward inference using `pyro.condition`. Assuming you observed a person with a university degree. What is your prediction of this person's means of travel? Provide a histogram of the marginal distribution on the variable \"T\". (6 points)\n"
      ]
    },
    {
      "cell_type": "code",
      "metadata": {
        "id": "TVMbr-mJu5cC"
      },
      "source": [
        "conditioned_model = pyro.condition(model, data={'E':torch.tensor(1),'O':torch.tensor(1), 'R':torch.tensor(0)})"
      ],
      "execution_count": 7,
      "outputs": []
    },
    {
      "cell_type": "code",
      "metadata": {
        "colab": {
          "base_uri": "https://localhost:8080/",
          "height": 312
        },
        "id": "-K3nWHz8u5cC",
        "outputId": "752bdd1d-7fad-4369-8cff-143e5eca7cba"
      },
      "source": [
        "T_posterior = pyro.infer.Importance(conditioned_model, num_samples=5000).run()\n",
        "T_marginal = EmpiricalMarginal(T_posterior,\"T\")\n",
        "T_samples = [T_marginal().item() for _ in range(1000)]\n",
        "T_unique, T_counts = np.unique(T_samples, return_counts=True)\n",
        "\n",
        "plt.bar(T_unique, T_counts, align='center', alpha=0.5)\n",
        "plt.xticks(T_unique, T_alias)\n",
        "plt.ylabel('count')\n",
        "plt.xlabel('T')\n",
        "plt.title('P(T | E = uni, O = emp, R = big) - Importance Sampling')"
      ],
      "execution_count": 9,
      "outputs": [
        {
          "output_type": "execute_result",
          "data": {
            "text/plain": [
              "Text(0.5, 1.0, 'P(T | E = uni, O = emp, R = big) - Importance Sampling')"
            ]
          },
          "metadata": {
            "tags": []
          },
          "execution_count": 9
        },
        {
          "output_type": "display_data",
          "data": {
            "image/png": "[encoded data removed]",
            "text/plain": [
              "<Figure size 432x288 with 1 Axes>"
            ]
          },
          "metadata": {
            "tags": [],
            "needs_background": "light"
          }
        }
      ]
    },
    {
      "cell_type": "markdown",
      "metadata": {
        "id": "odb4KqIcu5cE"
      },
      "source": [
        "We can implement reverse inference using `pyro.condition` and an inference algorithm in Pyro. Assuming you observed a self-employed person who lives in a big city. What is your prediction of this person's age?  Let's generate a histogram of the marginal on the variable \"A\". "
      ]
    },
    {
      "cell_type": "code",
      "metadata": {
        "id": "XQX3xUh8u5cE"
      },
      "source": [
        "conditioned_model = pyro.condition(model, data={'O':torch.tensor(1),'R':torch.tensor(1)})"
      ],
      "execution_count": 10,
      "outputs": []
    },
    {
      "cell_type": "code",
      "metadata": {
        "colab": {
          "base_uri": "https://localhost:8080/",
          "height": 312
        },
        "id": "W8TO1iNxu5cE",
        "outputId": "a9575f47-4b70-4fdf-fd89-a8b6dfee9ed1"
      },
      "source": [
        "A_posterior = pyro.infer.Importance(conditioned_model, num_samples=5000).run()\n",
        "A_marginal = EmpiricalMarginal(A_posterior,\"A\")\n",
        "A_samples = [A_marginal().item() for _ in range(1000)]\n",
        "A_unique, A_counts = np.unique(A_samples, return_counts=True)\n",
        "\n",
        "plt.bar(A_unique, A_counts, align='center', alpha=0.5)\n",
        "plt.xticks(A_unique, A_alias)\n",
        "plt.ylabel('count')\n",
        "plt.xlabel('A')\n",
        "plt.title('P(A | O = self, R = big) - Importance Sampling')"
      ],
      "execution_count": 11,
      "outputs": [
        {
          "output_type": "execute_result",
          "data": {
            "text/plain": [
              "Text(0.5, 1.0, 'P(A | O = self, R = big) - Importance Sampling')"
            ]
          },
          "metadata": {
            "tags": []
          },
          "execution_count": 11
        },
        {
          "output_type": "display_data",
          "data": {
            "image/png": "[encoded data removed]",
            "text/plain": [
              "<Figure size 432x288 with 1 Axes>"
            ]
          },
          "metadata": {
            "tags": [],
            "needs_background": "light"
          }
        }
      ]
    },
    {
      "cell_type": "markdown",
      "metadata": {
        "id": "0YrBPZunvm_-"
      },
      "source": [
        "### Intervention\n",
        "\n",
        "Finally, we'll use the `do` operator to simulate intervention.  We'll set residence to \"small\"."
      ]
    },
    {
      "cell_type": "code",
      "metadata": {
        "colab": {
          "base_uri": "https://localhost:8080/",
          "height": 312
        },
        "id": "TmiZD4okvlLG",
        "outputId": "4ebc1738-d5c3-4d21-8d00-a739f76ba468"
      },
      "source": [
        "intervention_model = pyro.do(model, data={'R':torch.tensor(0)})\n",
        "\n",
        "T_posterior = pyro.infer.Importance(intervention_model, num_samples=5000).run()\n",
        "T_marginal = EmpiricalMarginal(T_posterior,\"T\")\n",
        "T_samples = [T_marginal().item() for _ in range(1000)]\n",
        "T_unique, T_counts = np.unique(T_samples, return_counts=True)\n",
        "\n",
        "plt.bar(T_unique, T_counts, align='center', alpha=0.5)\n",
        "plt.xticks(T_unique, T_alias)\n",
        "plt.ylabel('count')\n",
        "plt.xlabel('T')\n",
        "plt.title('P(T | do(R = small)) - Importance Sampling')"
      ],
      "execution_count": 12,
      "outputs": [
        {
          "output_type": "execute_result",
          "data": {
            "text/plain": [
              "Text(0.5, 1.0, 'P(T | do(R = small)) - Importance Sampling')"
            ]
          },
          "metadata": {
            "tags": []
          },
          "execution_count": 12
        },
        {
          "output_type": "display_data",
          "data": {
            "image/png": "[encoded data removed]",
            "text/plain": [
              "<Figure size 432x288 with 1 Axes>"
            ]
          },
          "metadata": {
            "tags": [],
            "needs_background": "light"
          }
        }
      ]
    }
  ]
}